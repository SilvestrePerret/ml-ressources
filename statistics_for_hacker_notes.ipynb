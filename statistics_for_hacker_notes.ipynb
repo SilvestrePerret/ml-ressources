{
 "cells": [
  {
   "cell_type": "markdown",
   "metadata": {},
   "source": [
    "# Statistics for Hackers Cond (by Jake Vanderplas)\n",
    "\n",
    "__Thesis : The main point is asking the good questions.__\n",
    "\n",
    "## Warm-up : \n",
    "\n",
    "You toss a coin __30 times__. It shows head __22 times__. Is it a fair coin ?\n",
    "\n",
    "2 Points of view : \n",
    "- A fair coin should show 15 head.\n",
    "- A fair coin could show 22 heads. It might be just chance. (Skeptic Hypothesis)\n",
    "\n",
    "__Test the skeptic hypothesis first.__\n",
    "What is the probability of showing 22 heads for a fair coin ?\n",
    "\n",
    "__Mathematical Way__ : Binomal formula ==> 0.8 % (p = 0.008). It's less than 5 %. We can consider that the coin is not fair.\n",
    "\n",
    "__Simpler way__ : Simulate it !"
   ]
  },
  {
   "cell_type": "code",
   "execution_count": 46,
   "metadata": {},
   "outputs": [
    {
     "name": "stdout",
     "output_type": "stream",
     "text": [
      "The probability the coin showing 22 heads on 30 trials is 0.93%.\n",
      "This value is inferior to our P-value (5%). So, we can conclude this is not a fair coin\n"
     ]
    }
   ],
   "source": [
    "import numpy as np\n",
    "%matplotlib inline\n",
    "import matplotlib.pyplot as plt\n",
    "\n",
    "M = 0\n",
    "for i in range(10000):\n",
    "    trials = np.random.randint(2, size=30)\n",
    "    if trials.sum() >= 22:\n",
    "        M += 1\n",
    "\n",
    "p = M / 10000\n",
    "\n",
    "print(\"The probability the coin showing 22 heads on 30 trials is {:.2%}.\".format(p))\n",
    "print(\"This value is inferior to our P-value (5%). So, we can conclude this is not a fair coin\")"
   ]
  },
  {
   "cell_type": "markdown",
   "metadata": {},
   "source": [
    "In general :\n",
    "\n",
    "__Computing__ the sampling distribution is __hard__.\n",
    "\n",
    "\n",
    "__Simulating__ the sampling distribution is __esay__."
   ]
  },
  {
   "cell_type": "markdown",
   "metadata": {},
   "source": [
    "## Shuffling\n",
    "\n",
    "Sneeches (starred-or-not duck)\n",
    "- 2 populations : starred sneeches, not-starred sneeches\n",
    "- Some of them pass a test. The results are:\n",
    "    - starred score mean : 73.5\n",
    "    - not-starred score mean = 66.9\n",
    "    - difference = 6.6\n",
    "    \n",
    "Is the difference significant ?\n",
    "\n",
    "__Mathematical method__ : \n",
    "- t-test ==> t = 0.932\n",
    "- look at the p(t, nu) probability function\n",
    "- nu has an approximation depending on the standart deviation\n",
    "- plug the number. Look into the chart ==> t_crit = 1.7\n",
    "\n",
    "\n",
    "==> so __t > t_crit__ is __False__. The difference is __not__ significant !  \n",
    "\n",
    "__Simulating method__:\n",
    "- shuffle score, reassign labels, compute means and difference (multiple times)\n",
    "- plot the hist of the diff\n",
    "- answer the question : in how much case the difference between two arbitrary groups is greater than 6.6 ? ==> 16 % \n",
    "\n",
    "==> 16 % > 5 %. This is not significant."
   ]
  },
  {
   "cell_type": "code",
   "execution_count": 51,
   "metadata": {},
   "outputs": [
    {
     "data": {
      "image/png": "[encoded data removed]",
      "text/plain": [
       "<Figure size 432x288 with 1 Axes>"
      ]
     },
     "metadata": {},
     "output_type": "display_data"
    },
    {
     "name": "stdout",
     "output_type": "stream",
     "text": [
      "15.44% samples have a differences between the 2 arbitrary groups above 6.6.\n",
      "This value is superior to our P-value (5%). So, we can conclude this is not significant.\n"
     ]
    }
   ],
   "source": [
    "starred_scores = [84, 72, 57, 46, 63, 76, 99, 91]\n",
    "not_starred_scores = [81, 69, 74, 61, 56, 87, 69, 65, 66, 44, 62, 69]\n",
    "\n",
    "scores = np.array(starred_scores + not_starred_scores)\n",
    "\n",
    "diffs = np.empty((10000,))\n",
    "\n",
    "for i in range(10000):\n",
    "    np.random.shuffle(scores)\n",
    "    diff = scores[:8].mean() - scores[8:].mean()\n",
    "    diffs[i] = diff\n",
    "    \n",
    "plt.hist(diffs, 40)\n",
    "plt.axvline(x=6.6, color='r')\n",
    "plt.show()\n",
    "per = np.sum(diffs > 6.6)/ diffs.size\n",
    "\n",
    "print(\"{:.2%} samples have a differences between the 2 arbitrary groups above 6.6.\".format(per))\n",
    "print(\"This value is superior to our P-value (5%). So, we can conclude this is not significant.\")"
   ]
  },
  {
   "cell_type": "markdown",
   "metadata": {},
   "source": [
    "## Bootstrapping\n",
    "\n"
   ]
  },
  {
   "cell_type": "code",
   "execution_count": 52,
   "metadata": {},
   "outputs": [
    {
     "data": {
      "text/plain": [
       "(28.847115000000002, 2.8879603402358214)"
      ]
     },
     "execution_count": 52,
     "metadata": {},
     "output_type": "execute_result"
    }
   ],
   "source": [
    "data = np.array([48,24,51,12,21,41,25,23,32,61,19,24,29,21,23,13,32,18,42,18])\n",
    "xbar = np.empty((10000,))\n",
    "for i in range(10000):\n",
    "    sample = np.random.choice(data, size=20, replace=True)\n",
    "    xbar[i] = sample.mean()\n",
    "xbar.mean(), xbar.std()"
   ]
  },
  {
   "cell_type": "markdown",
   "metadata": {},
   "source": [
    "## Cross-validation\n",
    "\n"
   ]
  },
  {
   "cell_type": "code",
   "execution_count": null,
   "metadata": {},
   "outputs": [],
   "source": []
  }
 ],
 "metadata": {
  "kernelspec": {
   "display_name": "Python 3",
   "language": "python",
   "name": "python3"
  },
  "language_info": {
   "codemirror_mode": {
    "name": "ipython",
    "version": 3
   },
   "file_extension": ".py",
   "mimetype": "text/x-python",
   "name": "python",
   "nbconvert_exporter": "python",
   "pygments_lexer": "ipython3",
   "version": "3.6.5"
  }
 },
 "nbformat": 4,
 "nbformat_minor": 2
}
